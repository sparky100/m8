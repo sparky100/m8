{
 "cells": [
  {
   "cell_type": "markdown",
   "metadata": {},
   "source": [
    "# Glasgow Traffic Analysis"
   ]
  },
  {
   "cell_type": "markdown",
   "metadata": {},
   "source": [
    "## Import libraries"
   ]
  },
  {
   "cell_type": "code",
   "execution_count": 10,
   "metadata": {},
   "outputs": [],
   "source": [
    "import pandas as pd\n",
    "import json\n",
    "import requests"
   ]
  },
  {
   "cell_type": "markdown",
   "metadata": {},
   "source": [
    "## Retreive Location Data from API"
   ]
  },
  {
   "cell_type": "code",
   "execution_count": 2,
   "metadata": {},
   "outputs": [],
   "source": [
    "page = requests.get(\n",
    "    'https://gcc.azure-api.net/datextraffic/locations?format=json')\n",
    "locations = page.json()\n"
   ]
  },
  {
   "cell_type": "markdown",
   "metadata": {},
   "source": [
    "## Retieve Location data from Response "
   ]
  },
  {
   "cell_type": "code",
   "execution_count": 4,
   "metadata": {},
   "outputs": [],
   "source": [
    "LogicalModel = locations['d2LogicalModel']\n",
    "MeasurementSites = LogicalModel['payloadPublication']['measurementSiteTable']['measurementSiteRecord']\n",
    "\n",
    "for site in MeasurementSites:\n",
    "    id = site['@id']\n",
    "    location = site['measurementSiteLocation']['tpeglinearLocation']\n",
    "    toLocation = location['to']\n",
    "    fromLocation = location['from']\n",
    "    toLocationLat = toLocation['pointCoordinates']['latitude']\n",
    "    toLocationLong = toLocation['pointCoordinates']['longitude']\n",
    "    toLocationName = toLocation['name']['descriptor']['value']\n",
    "    fromLocationLat = fromLocation['pointCoordinates']['latitude']\n",
    "    fromLocationLong = fromLocation['pointCoordinates']['longitude']\n",
    "    fromLocationName = fromLocation['name']['descriptor']['value']\n",
    "    #print(id, fromLocationLat, fromLocationLong, fromLocationName, toLocationLat, toLocationLong, toLocationName)\n"
   ]
  },
  {
   "cell_type": "markdown",
   "metadata": {},
   "source": [
    "## Get Movement Data from API"
   ]
  },
  {
   "cell_type": "code",
   "execution_count": 21,
   "metadata": {},
   "outputs": [],
   "source": [
    "page = requests.get('https://gcc.azure-api.net/traffic/v1/movement/now/?page=10000')\n",
    "movement = page.json()\n"
   ]
  },
  {
   "cell_type": "markdown",
   "metadata": {},
   "source": [
    "## Retrieve Movement Data from Response "
   ]
  },
  {
   "cell_type": "code",
   "execution_count": 20,
   "metadata": {},
   "outputs": [],
   "source": [
    "allsites=[]\n",
    "for observation in movement:\n",
    "    upd = observation['timestamp']\n",
    "    site = observation['site']\n",
    "    siteId = site['siteId']\n",
    "    fromLoc = site['from']\n",
    "    fromDesc = fromLoc['description']\n",
    "    fromLat= fromLoc['lat']\n",
    "    fromLong= fromLoc['long']\n",
    "    flow= observation['flow']\n",
    "    conc= observation['concentration']\n",
    "    #print(upd,siteId, fromDesc, flow, conc)\n",
    "    obs= {'updTime':upd,'SiteId':siteId, 'Desc':fromDesc, 'Flow':flow ,'Concentration': conc}\n",
    "    allsites.append(obs)\n",
    "\n",
    "df = pd.DataFrame(allsites)\n",
    "\n",
    "import csv\n",
    "\n",
    "with open('movement.csv','w') as f:\n",
    "    w = csv.DictWriter(f, allsites[0].keys())\n",
    "    w.writerows(allsites)\n",
    "\n",
    "    \n"
   ]
  },
  {
   "cell_type": "markdown",
   "metadata": {},
   "source": [
    "## Loop through Pages  of Current Data"
   ]
  },
  {
   "cell_type": "code",
   "execution_count": 41,
   "metadata": {},
   "outputs": [
    {
     "name": "stdout",
     "output_type": "stream",
     "text": [
      "Collecting data ,page  1\n"
     ]
    },
    {
     "ename": "TypeError",
     "evalue": "string indices must be integers",
     "output_type": "error",
     "traceback": [
      "\u001b[0;31m---------------------------------------------------------------------------\u001b[0m",
      "\u001b[0;31mTypeError\u001b[0m                                 Traceback (most recent call last)",
      "\u001b[0;32m/tmp/ipykernel_7726/16768653.py\u001b[0m in \u001b[0;36m<module>\u001b[0;34m\u001b[0m\n\u001b[1;32m     15\u001b[0m         \u001b[0;32mfor\u001b[0m \u001b[0mobservation\u001b[0m \u001b[0;32min\u001b[0m \u001b[0mmovement\u001b[0m\u001b[0;34m:\u001b[0m\u001b[0;34m\u001b[0m\u001b[0;34m\u001b[0m\u001b[0m\n\u001b[1;32m     16\u001b[0m             \u001b[0;31m#upd = observation['timestamp']\u001b[0m\u001b[0;34m\u001b[0m\u001b[0;34m\u001b[0m\u001b[0m\n\u001b[0;32m---> 17\u001b[0;31m             \u001b[0msite\u001b[0m \u001b[0;34m=\u001b[0m \u001b[0mobservation\u001b[0m\u001b[0;34m[\u001b[0m\u001b[0;34m'site'\u001b[0m\u001b[0;34m]\u001b[0m\u001b[0;34m\u001b[0m\u001b[0;34m\u001b[0m\u001b[0m\n\u001b[0m\u001b[1;32m     18\u001b[0m             \u001b[0msiteId\u001b[0m \u001b[0;34m=\u001b[0m \u001b[0msite\u001b[0m\u001b[0;34m[\u001b[0m\u001b[0;34m'siteId'\u001b[0m\u001b[0;34m]\u001b[0m\u001b[0;34m\u001b[0m\u001b[0;34m\u001b[0m\u001b[0m\n\u001b[1;32m     19\u001b[0m             \u001b[0mfromLoc\u001b[0m \u001b[0;34m=\u001b[0m \u001b[0msite\u001b[0m\u001b[0;34m[\u001b[0m\u001b[0;34m'from'\u001b[0m\u001b[0;34m]\u001b[0m\u001b[0;34m\u001b[0m\u001b[0;34m\u001b[0m\u001b[0m\n",
      "\u001b[0;31mTypeError\u001b[0m: string indices must be integers"
     ]
    }
   ],
   "source": [
    "import time\n",
    "import datetime\n",
    "\n",
    "dataReturned = True\n",
    "getpage = 1\n",
    "allsites=[]\n",
    "while dataReturned:\n",
    "    page = requests.get('https://gcc.azure-api.net/traffic/v1/movement/now/?page='+str(getpage))\n",
    "    movement = page.json()\n",
    "    if not movement:\n",
    "        dataReturned = False\n",
    "    else:\n",
    "        getpage = getpage +1\n",
    "        print (\"Collecting data ,page \", str(getpage-1))\n",
    "        for observation in movement:\n",
    "            #upd = observation['timestamp']\n",
    "            site = observation['site']\n",
    "            siteId = site['siteId']\n",
    "            fromLoc = site['from']\n",
    "            fromDesc = fromLoc['description']\n",
    "            fromLat= fromLoc['lat']\n",
    "            fromLong= fromLoc['long']\n",
    "            flow= observation['flow']\n",
    "            conc= observation['concentration']\n",
    "            #print(upd,siteId, fromDesc, flow, conc)\n",
    "      \n",
    "            obs= {'updTime':upd,'SiteId':siteId, 'Desc':fromDesc, 'Flow':flow ,'Concentration': conc}\n",
    "            allsites.append(obs)\n",
    "        time.sleep(5)   \n",
    "df = pd.DataFrame(allsites)\n",
    "\n",
    "import csv\n",
    "\n",
    "with open('movement.csv','w') as f:\n",
    "    w = csv.DictWriter(f, allsites[0].keys())\n",
    "    w.writerows(allsites)\n"
   ]
  },
  {
   "cell_type": "code",
   "execution_count": 42,
   "metadata": {},
   "outputs": [
    {
     "data": {
      "text/plain": [
       "{'statusCode': 403,\n",
       " 'message': 'Out of call volume quota. Quota will be replenished in 4.01:05:02.'}"
      ]
     },
     "execution_count": 42,
     "metadata": {},
     "output_type": "execute_result"
    }
   ],
   "source": [
    "movement\n"
   ]
  }
 ],
 "metadata": {
  "interpreter": {
   "hash": "916dbcbb3f70747c44a77c7bcd40155683ae19c65e1c03b4aa3499c5328201f1"
  },
  "kernelspec": {
   "display_name": "Python 3.9.7 64-bit",
   "language": "python",
   "name": "python3"
  },
  "language_info": {
   "codemirror_mode": {
    "name": "ipython",
    "version": 3
   },
   "file_extension": ".py",
   "mimetype": "text/x-python",
   "name": "python",
   "nbconvert_exporter": "python",
   "pygments_lexer": "ipython3",
   "version": "3.9.7"
  },
  "orig_nbformat": 4
 },
 "nbformat": 4,
 "nbformat_minor": 2
}
